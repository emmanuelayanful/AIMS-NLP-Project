{
 "cells": [
  {
   "cell_type": "markdown",
   "metadata": {},
   "source": [
    "<a href=\"https://colab.research.google.com/github/emmanuelayanful/AIMS-NLP-Project/blob/main/Data_preprocess.ipynb\" target=\"_parent\"><img src=\"https://colab.research.google.com/assets/colab-badge.svg\" alt=\"Open In Colab\"/></a>"
   ]
  },
  {
   "cell_type": "code",
   "execution_count": null,
   "metadata": {},
   "outputs": [],
   "source": [
    "# # Linking to drive\n",
    "# from google.colab import drive\n",
    "# drive.mount(\"/content/drive\")"
   ]
  },
  {
   "cell_type": "code",
   "execution_count": 1,
   "metadata": {},
   "outputs": [
    {
     "name": "stdout",
     "output_type": "stream",
     "text": [
      "Requirement already satisfied: opustools in /opt/anaconda3/lib/python3.12/site-packages (1.6.2)\n",
      "Requirement already satisfied: ruamel.yaml in /opt/anaconda3/lib/python3.12/site-packages (from opustools) (0.18.6)\n",
      "Requirement already satisfied: ruamel.yaml.clib>=0.2.7 in /opt/anaconda3/lib/python3.12/site-packages (from ruamel.yaml->opustools) (0.2.8)\n"
     ]
    }
   ],
   "source": [
    "# Installing package to retrieve datasets\n",
    "! pip install opustools"
   ]
  },
  {
   "cell_type": "code",
   "execution_count": 2,
   "metadata": {},
   "outputs": [],
   "source": [
    "import os"
   ]
  },
  {
   "cell_type": "code",
   "execution_count": null,
   "metadata": {},
   "outputs": [
    {
     "name": "stderr",
     "output_type": "stream",
     "text": [
      "Only moses write_mode is supported for moses preprocessing. Ignoring write_mode normal.\n",
      "Only moses write_mode is supported for moses preprocessing. Ignoring write_mode normal.\n",
      "Only moses write_mode is supported for moses preprocessing. Ignoring write_mode normal.\n",
      "Only moses write_mode is supported for moses preprocessing. Ignoring write_mode normal.\n",
      "Only moses write_mode is supported for moses preprocessing. Ignoring write_mode normal.\n"
     ]
    },
    {
     "name": "stdout",
     "output_type": "stream",
     "text": [
      "\n",
      "Done!!!\n"
     ]
    },
    {
     "name": "stderr",
     "output_type": "stream",
     "text": [
      "Only moses write_mode is supported for moses preprocessing. Ignoring write_mode normal.\n"
     ]
    }
   ],
   "source": [
    "def create_corpus(src, tgt, file_dir, corpora=\"bible-uedin\"):\n",
    "    if isinstance(tgt, str):\n",
    "        tgt = [tgt]\n",
    "    for tg in tgt:\n",
    "        os.makedirs(os.path.join(file_dir, f\"{src}-{tg}\"), exist_ok=True)\n",
    "        download_dir = os.path.join(file_dir, f\"{src}-{tg}\")\n",
    "        source_file = os.path.join(download_dir, f\"{corpora}.{src}-{tg}.{src}\")\n",
    "        target_file = os.path.join(download_dir, f\"{corpora}.{src}-{tg}.{tg}\")\n",
    "\n",
    "        command = f\"opus_read -d {corpora} -s {src} -t {tg} -p moses -dl {download_dir} -w {source_file} {target_file} -q\"\n",
    "        os.system(command)\n",
    "        \n",
    "    print(\"\\nDone!!!\")\n",
    "\n",
    "create_corpus(src='en', tgt=['ss', 'ee', 'zu', 'so', 'am', 'wo'], file_dir='corpus')"
   ]
  },
  {
   "cell_type": "code",
   "execution_count": null,
   "metadata": {},
   "outputs": [],
   "source": [
    "def preprocess_corpus()"
   ]
  }
 ],
 "metadata": {
  "kernelspec": {
   "display_name": "base",
   "language": "python",
   "name": "python3"
  },
  "language_info": {
   "codemirror_mode": {
    "name": "ipython",
    "version": 3
   },
   "file_extension": ".py",
   "mimetype": "text/x-python",
   "name": "python",
   "nbconvert_exporter": "python",
   "pygments_lexer": "ipython3",
   "version": "3.12.7"
  }
 },
 "nbformat": 4,
 "nbformat_minor": 2
}
