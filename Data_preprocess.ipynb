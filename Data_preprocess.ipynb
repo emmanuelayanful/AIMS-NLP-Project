{
 "cells": [
  {
   "cell_type": "markdown",
   "metadata": {},
   "source": [
    "<a href=\"https://colab.research.google.com/github/emmanuelayanful/AIMS-NLP-Project/blob/main/Data_preprocess.ipynb\" target=\"_parent\"><img src=\"https://colab.research.google.com/assets/colab-badge.svg\" alt=\"Open In Colab\"/></a>"
   ]
  },
  {
   "cell_type": "code",
   "execution_count": 1,
   "metadata": {},
   "outputs": [],
   "source": [
    "# # Linking to drive\n",
    "# from google.colab import drive\n",
    "# drive.mount(\"/content/drive\")"
   ]
  },
  {
   "cell_type": "code",
   "execution_count": 2,
   "metadata": {},
   "outputs": [
    {
     "name": "stdout",
     "output_type": "stream",
     "text": [
      "Requirement already satisfied: opustools in /opt/anaconda3/lib/python3.12/site-packages (1.6.2)\n",
      "Requirement already satisfied: ruamel.yaml in /opt/anaconda3/lib/python3.12/site-packages (from opustools) (0.18.6)\n",
      "Requirement already satisfied: ruamel.yaml.clib>=0.2.7 in /opt/anaconda3/lib/python3.12/site-packages (from ruamel.yaml->opustools) (0.2.8)\n"
     ]
    }
   ],
   "source": [
    "# Installing package to retrieve datasets\n",
    "! pip install opustools"
   ]
  },
  {
   "cell_type": "code",
   "execution_count": 3,
   "metadata": {},
   "outputs": [],
   "source": [
    "import os"
   ]
  },
  {
   "cell_type": "code",
   "execution_count": 4,
   "metadata": {},
   "outputs": [],
   "source": [
    "# os.chdir(\"/content/drive/MyDrive/AIMS PROJECT\")"
   ]
  },
  {
   "cell_type": "code",
   "execution_count": null,
   "metadata": {},
   "outputs": [],
   "source": []
  },
  {
   "cell_type": "code",
   "execution_count": 5,
   "metadata": {},
   "outputs": [
    {
     "name": "stderr",
     "output_type": "stream",
     "text": [
      "Only moses write_mode is supported for moses preprocessing. Ignoring write_mode normal.\n",
      "Only moses write_mode is supported for moses preprocessing. Ignoring write_mode normal.\n",
      "Only moses write_mode is supported for moses preprocessing. Ignoring write_mode normal.\n",
      "Only moses write_mode is supported for moses preprocessing. Ignoring write_mode normal.\n",
      "Only moses write_mode is supported for moses preprocessing. Ignoring write_mode normal.\n"
     ]
    },
    {
     "name": "stdout",
     "output_type": "stream",
     "text": [
      "\n",
      "Done!!!\n"
     ]
    },
    {
     "name": "stderr",
     "output_type": "stream",
     "text": [
      "Only moses write_mode is supported for moses preprocessing. Ignoring write_mode normal.\n"
     ]
    }
   ],
   "source": [
    "import os\n",
    "\n",
    "def create_corpus(src, tgt, file_dir, corpora=\"bible-uedin\"):\n",
    "    if isinstance(tgt, str):\n",
    "        tgt = [tgt]\n",
    "    for tg in tgt:\n",
    "        os.makedirs(os.path.join(file_dir, f\"{src}-{tg}\"), exist_ok=True)\n",
    "        download_dir = os.path.join(file_dir, f\"{src}-{tg}\")\n",
    "        source_file = os.path.join(download_dir, f\"{corpora}.{src}-{tg}.{src}\")\n",
    "        target_file = os.path.join(download_dir, f\"{corpora}.{src}-{tg}.{tg}\")\n",
    "\n",
    "        command = f\"opus_read -d {corpora} -s {src} -t {tg} -p moses -dl {download_dir} -w {source_file} {target_file} -q\"\n",
    "        os.system(command)\n",
    "        \n",
    "        with open(source_file, mode='r') as src_file:\n",
    "            source = src_file.readlines()\n",
    "        with open(target_file, mode='r') as tgt_file:\n",
    "            target = tgt_file.readlines()\n",
    "        \n",
    "        source = ''.join(source).lower().split('.')\n",
    "        target = ''.join(target).lower().split('.')\n",
    "        \n",
    "        source = [s.strip().replace(';', '\\n').replace('?', '\\n').replace('\"', '').strip() for s in source]\n",
    "        source = [s.replace('\"', '').replace(\"'\", '').replace('\"', '').strip() for s in source]\n",
    "        target = [t.strip().replace(';', '\\n').replace('?', '\\n').replace('\"', '').strip() for t in target]\n",
    "        target = [t.replace('\"', '').replace(\"'\", '').replace('\"', '').strip() for t in target]\n",
    "        \n",
    "        with open(f'{source_file}.txt', 'w') as src_out:\n",
    "            src_out.write(\"\\n\".join(source).strip())\n",
    "        with open(f'{target_file}.txt', 'w') as tgt_out:\n",
    "            tgt_out.write(\"\\n\".join(target).strip())\n",
    "\n",
    "    print(\"\\nDone!!!\")\n",
    "\n",
    "create_corpus(src='en', tgt=['ss', 'ee', 'zu', 'so', 'am', 'wo'], corpora=\"bible-uedin\", file_dir='corpus')"
   ]
  },
  {
   "cell_type": "code",
   "execution_count": 6,
   "metadata": {},
   "outputs": [
    {
     "name": "stdout",
     "output_type": "stream",
     "text": [
      "The book of the genealogy of Jesus Christ , the son of David, the son of Abraham.\n",
      "Abraham became the father of Isaac. Isaac became the father of Jacob. Jacob became the father of Judah and his brothers.\n",
      "Judah became the father of Perez and Zerah by Tamar. Perez became the father of Hezron. Hezron became the father of Ram.\n",
      "Ram became the father of Amminadab. Amminadab became the father of Nahshon. Nahshon became the father of Salmon.\n",
      "Salmon became the father of Boaz by Rahab. Boaz became the father of Obed by Ruth. Obed became the father of Jesse.\n",
      "Jesse became the father of King David. David became the father of Solomon by her who had been the wife of Uriah.\n",
      "Solomon became the father of Rehoboam. Rehoboam became the father of Abijah. Abijah became the father of Asa.\n",
      "Asa became the father of Jehoshaphat. Jehoshaphat became the father of Joram. Joram became the father of Uzziah.\n",
      "Uzziah became the father of Jotham. Jotham became the father of Ahaz. Ahaz became the father of Hezekiah.\n",
      "Hezekiah became the father of Manasseh. Manasseh became the father of Amon. Amon became the father of Josiah.\n",
      "Josiah became the father of Jechoniah and his brothers, at the time of the exile to Babylon.\n",
      "After the exile to Babylon, Jechoniah became the father of Shealtiel. Shealtiel became the father of Zerubbabel.\n",
      "Zerubbabel became the father of Abiud. Abiud became the father of Eliakim. Eliakim became the father of Azor.\n",
      "Azor became the father of Sadoc. Sadoc became the father of Achim. Achim became the father of Eliud.\n",
      "Eliud became the father of Eleazar. Eleazar became the father of Matthan. Matthan became the father of Jacob.\n",
      "Jacob became the father of Joseph, the husband of Mary, from whom was born Jesus , who is called Christ.\n",
      "So all the generations from Abraham to David are fourteen generations; from David to the exile to Babylon fourteen generations; and from the carrying away to Babylon to the Christ, fourteen generations.\n",
      "Now the birth of Jesus Christ was like this; for after his mother, Mary, was engaged to Joseph, before they came together, she was found pregnant by the Holy Spirit.\n",
      "Joseph, her husband, being a righteous man, and not willing to make her a public example, intended to put her away secretly.\n",
      "But when he thought about these things, behold, an angel of the Lord appeared to him in a dream, saying, \"Joseph, son of David, don't be afraid to take to yourself Mary, your wife, for that which is conceived in her is of the Holy Spirit.\n"
     ]
    }
   ],
   "source": [
    "! head -n 20 corpus/en-ss/bible-uedin.en-ss.en"
   ]
  },
  {
   "cell_type": "code",
   "execution_count": 7,
   "metadata": {},
   "outputs": [
    {
     "name": "stdout",
     "output_type": "stream",
     "text": [
      "the book of the genealogy of jesus christ , the son of david, the son of abraham\n",
      "abraham became the father of isaac\n",
      "isaac became the father of jacob\n",
      "jacob became the father of judah and his brothers\n",
      "judah became the father of perez and zerah by tamar\n",
      "perez became the father of hezron\n",
      "hezron became the father of ram\n",
      "ram became the father of amminadab\n",
      "amminadab became the father of nahshon\n",
      "nahshon became the father of salmon\n",
      "salmon became the father of boaz by rahab\n",
      "boaz became the father of obed by ruth\n",
      "obed became the father of jesse\n",
      "jesse became the father of king david\n",
      "david became the father of solomon by her who had been the wife of uriah\n",
      "solomon became the father of rehoboam\n",
      "rehoboam became the father of abijah\n",
      "abijah became the father of asa\n",
      "asa became the father of jehoshaphat\n",
      "jehoshaphat became the father of joram\n"
     ]
    }
   ],
   "source": [
    "! head -n 20 corpus/en-ss/bible-uedin.en-ss.en.txt"
   ]
  },
  {
   "cell_type": "code",
   "execution_count": null,
   "metadata": {},
   "outputs": [],
   "source": []
  }
 ],
 "metadata": {
  "kernelspec": {
   "display_name": "base",
   "language": "python",
   "name": "python3"
  },
  "language_info": {
   "codemirror_mode": {
    "name": "ipython",
    "version": 3
   },
   "file_extension": ".py",
   "mimetype": "text/x-python",
   "name": "python",
   "nbconvert_exporter": "python",
   "pygments_lexer": "ipython3",
   "version": "3.12.7"
  }
 },
 "nbformat": 4,
 "nbformat_minor": 2
}
