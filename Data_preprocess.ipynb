{
 "cells": [
  {
   "cell_type": "markdown",
   "metadata": {},
   "source": [
    "# Leveraging Bitext mining and COMET-QE for improving parallel data selection of low-resource machine translation  \n",
    "<a href=\"https://colab.research.google.com/github/emmanuelayanful/AIMS-NLP-Project/blob/main/Data_preprocess.ipynb\" target=\"_parent\"><img src=\"https://colab.research.google.com/assets/colab-badge.svg\" alt=\"Open In Colab\"/></a>"
   ]
  },
  {
   "cell_type": "code",
   "execution_count": 1,
   "metadata": {},
   "outputs": [],
   "source": [
    "# # Linking to drive\n",
    "# from google.colab import drive\n",
    "# drive.mount(\"/content/drive\")"
   ]
  },
  {
   "cell_type": "code",
   "execution_count": 2,
   "metadata": {},
   "outputs": [
    {
     "name": "stdout",
     "output_type": "stream",
     "text": [
      "Requirement already satisfied: opustools in /opt/anaconda3/lib/python3.12/site-packages (1.6.2)\n",
      "Requirement already satisfied: ruamel.yaml in /opt/anaconda3/lib/python3.12/site-packages (from opustools) (0.18.6)\n",
      "Requirement already satisfied: ruamel.yaml.clib>=0.2.7 in /opt/anaconda3/lib/python3.12/site-packages (from ruamel.yaml->opustools) (0.2.8)\n"
     ]
    }
   ],
   "source": [
    "# Installing package to retrieve datasets\n",
    "! pip install opustools"
   ]
  },
  {
   "cell_type": "code",
   "execution_count": 3,
   "metadata": {},
   "outputs": [],
   "source": [
    "import os\n",
    "import re"
   ]
  },
  {
   "cell_type": "code",
   "execution_count": 4,
   "metadata": {},
   "outputs": [],
   "source": [
    "# os.chdir(\"/content/drive/MyDrive/AIMS PROJECT\")"
   ]
  },
  {
   "cell_type": "code",
   "execution_count": 5,
   "metadata": {},
   "outputs": [],
   "source": [
    "def clean_text(text):\n",
    "    text = text.lower()  # Lowercase text\n",
    "    text = re.sub(r'\\(.*?\\)', '', text)  # Removes text within parentheses (including the parentheses)\n",
    "    text = re.sub(r'\\[.*?\\]', '', text)  # Removes text within square brackets (including the brackets)\n",
    "    text = re.sub(r'[\\'\\\"]', '', text)  # Removes both single and double quotes\n",
    "    text = re.sub(r'\\s+,', ',', text) # Removes space before comma\n",
    "    text = re.sub(r'\\.\\s*', '\\n', text) # Split text after a period\n",
    "    text = re.sub(r'\\:\\s*', '\\n', text) # Split text after a colon\n",
    "    #text = re.sub(r'[.:].*?\\n', '\\n', text) # Split text after a period or colon\n",
    "    return text"
   ]
  },
  {
   "cell_type": "code",
   "execution_count": 6,
   "metadata": {},
   "outputs": [
    {
     "name": "stderr",
     "output_type": "stream",
     "text": [
      "Only moses write_mode is supported for moses preprocessing. Ignoring write_mode normal.\n"
     ]
    },
    {
     "name": "stdout",
     "output_type": "stream",
     "text": [
      "The following files are available for downloading:\n",
      "\n",
      "   1 MB https://object.pouta.csc.fi/OPUS-bible-uedin/v1/moses/en-ss.txt.zip | 15699 alignment pairs, 351344 source tokens, 277931 target tokens (id 23526)\n",
      "\n",
      "   1 MB Total size\n",
      "corpus/en-ss/bible-uedin_latest_moses_en-ss.txt.zip ... 100% of 1 MB\n",
      "\n",
      "Cleaned data saved for en-ss corpus.\n",
      "\n",
      "The following files are available for downloading:\n",
      "\n"
     ]
    },
    {
     "name": "stderr",
     "output_type": "stream",
     "text": [
      "Only moses write_mode is supported for moses preprocessing. Ignoring write_mode normal.\n"
     ]
    },
    {
     "name": "stdout",
     "output_type": "stream",
     "text": [
      "   1 MB https://object.pouta.csc.fi/OPUS-bible-uedin/v1/moses/ee-en.txt.zip | 16001 alignment pairs, 440448 source tokens, 357784 target tokens (id 23318)\n",
      "\n",
      "   1 MB Total size\n",
      "corpus/en-ee/bible-uedin_latest_moses_ee-en.txt.zip ... 100% of 1 MB\n",
      "\n",
      "Cleaned data saved for en-ee corpus.\n",
      "\n",
      "The following files are available for downloading:\n",
      "\n"
     ]
    },
    {
     "name": "stderr",
     "output_type": "stream",
     "text": [
      "Only moses write_mode is supported for moses preprocessing. Ignoring write_mode normal.\n"
     ]
    },
    {
     "name": "stdout",
     "output_type": "stream",
     "text": [
      "   1 MB https://object.pouta.csc.fi/OPUS-bible-uedin/v1/moses/en-zu.txt.zip | 15907 alignment pairs, 355745 source tokens, 193005 target tokens (id 23541)\n",
      "\n",
      "   1 MB Total size\n",
      "corpus/en-zu/bible-uedin_latest_moses_en-zu.txt.zip ... 100% of 1 MB\n",
      "\n",
      "Cleaned data saved for en-zu corpus.\n",
      "\n",
      "The following files are available for downloading:\n",
      "\n"
     ]
    },
    {
     "name": "stderr",
     "output_type": "stream",
     "text": [
      "Only moses write_mode is supported for moses preprocessing. Ignoring write_mode normal.\n"
     ]
    },
    {
     "name": "stdout",
     "output_type": "stream",
     "text": [
      "   5 MB https://object.pouta.csc.fi/OPUS-bible-uedin/v1/moses/en-so.txt.zip | 62195 alignment pairs, 1550431 source tokens, 1455125 target tokens (id 23523)\n",
      "\n",
      "   5 MB Total size\n",
      "corpus/en-so/bible-uedin_latest_moses_en-so.txt.zip ... 100% of 5 MB\n",
      "\n",
      "Cleaned data saved for en-so corpus.\n",
      "\n"
     ]
    },
    {
     "name": "stderr",
     "output_type": "stream",
     "text": [
      "Only moses write_mode is supported for moses preprocessing. Ignoring write_mode normal.\n"
     ]
    },
    {
     "name": "stdout",
     "output_type": "stream",
     "text": [
      "The following files are available for downloading:\n",
      "\n",
      "   5 MB https://object.pouta.csc.fi/OPUS-bible-uedin/v1/moses/am-en.txt.zip | 61084 alignment pairs, 828535 source tokens, 1525058 target tokens (id 21512)\n",
      "\n",
      "   5 MB Total size\n",
      "corpus/en-am/bible-uedin_latest_moses_am-en.txt.zip ... 100% of 5 MB\n",
      "\n",
      "Cleaned data saved for en-am corpus.\n",
      "\n"
     ]
    },
    {
     "name": "stderr",
     "output_type": "stream",
     "text": [
      "Only moses write_mode is supported for moses preprocessing. Ignoring write_mode normal.\n"
     ]
    },
    {
     "name": "stdout",
     "output_type": "stream",
     "text": [
      "The following files are available for downloading:\n",
      "\n",
      "   1 MB https://object.pouta.csc.fi/OPUS-bible-uedin/v1/moses/en-wo.txt.zip | 15833 alignment pairs, 354451 source tokens, 342902 target tokens (id 23538)\n",
      "\n",
      "   1 MB Total size\n",
      "corpus/en-wo/bible-uedin_latest_moses_en-wo.txt.zip ... 100% of 1 MB\n",
      "\n",
      "Cleaned data saved for en-wo corpus.\n",
      "\n",
      "\n",
      "Done!!!\n"
     ]
    }
   ],
   "source": [
    "\n",
    "\n",
    "def create_corpus(src, tgt, file_dir, corpora=\"bible-uedin\"):\n",
    "    if isinstance(tgt, str):\n",
    "        tgt = [tgt]\n",
    "    \n",
    "    for tg in tgt:\n",
    "        os.makedirs(os.path.join(file_dir, f\"{src}-{tg}\"), exist_ok=True)\n",
    "        download_dir = os.path.join(file_dir, f\"{src}-{tg}\")\n",
    "        source_file = os.path.join(download_dir, f\"{corpora}.{src}-{tg}.{src}\")\n",
    "        target_file = os.path.join(download_dir, f\"{corpora}.{src}-{tg}.{tg}\")\n",
    " \n",
    "        command = f\"opus_read -d {corpora} -s {src} -t {tg} -p moses -dl {download_dir} -w {source_file} {target_file} -q\"\n",
    "        os.system(command)\n",
    "\n",
    "        # Assuming that the source and target files are already downloaded or created\n",
    "        with open(source_file, 'r', encoding='utf-8') as src_file, open(target_file, 'r', encoding='utf-8') as tgt_file:\n",
    "            src_lines = src_file.readlines()\n",
    "            tgt_lines = tgt_file.readlines()\n",
    "        \n",
    "        # Apply cleaning to both source and target data\n",
    "        cleaned_src_lines = [clean_text(line) for line in src_lines]\n",
    "        cleaned_tgt_lines = [clean_text(line) for line in tgt_lines]\n",
    "\n",
    "        # Write cleaned data back to files\n",
    "        with open(f'{source_file}.txt', 'w', encoding='utf-8') as src_file, open(f'{target_file}.txt', 'w', encoding='utf-8') as tgt_file:\n",
    "            src_file.writelines([line for line in cleaned_src_lines])\n",
    "            tgt_file.writelines([line for line in cleaned_tgt_lines])\n",
    "\n",
    "        print(f\"\\nCleaned data saved for {src}-{tg} corpus.\\n\")\n",
    "    \n",
    "    print(\"\\nDone!!!\")\n",
    "\n",
    "create_corpus(src='en', tgt=['ss', 'ee', 'zu', 'so', 'am', 'wo'], corpora=\"bible-uedin\", file_dir='corpus')\n"
   ]
  },
  {
   "cell_type": "code",
   "execution_count": 7,
   "metadata": {},
   "outputs": [],
   "source": [
    "src = 'en'; tgt = 'ss'"
   ]
  },
  {
   "cell_type": "code",
   "execution_count": 8,
   "metadata": {},
   "outputs": [
    {
     "name": "stdout",
     "output_type": "stream",
     "text": [
      "==> corpus/en-ss/bible-uedin.en-ss.en <==\n",
      "The book of the genealogy of Jesus Christ , the son of David, the son of Abraham.\n",
      "Abraham became the father of Isaac. Isaac became the father of Jacob. Jacob became the father of Judah and his brothers.\n",
      "Judah became the father of Perez and Zerah by Tamar. Perez became the father of Hezron. Hezron became the father of Ram.\n",
      "Ram became the father of Amminadab. Amminadab became the father of Nahshon. Nahshon became the father of Salmon.\n",
      "Salmon became the father of Boaz by Rahab. Boaz became the father of Obed by Ruth. Obed became the father of Jesse.\n",
      "Jesse became the father of King David. David became the father of Solomon by her who had been the wife of Uriah.\n",
      "Solomon became the father of Rehoboam. Rehoboam became the father of Abijah. Abijah became the father of Asa.\n",
      "Asa became the father of Jehoshaphat. Jehoshaphat became the father of Joram. Joram became the father of Uzziah.\n",
      "Uzziah became the father of Jotham. Jotham became the father of Ahaz. Ahaz became the father of Hezekiah.\n",
      "Hezekiah became the father of Manasseh. Manasseh became the father of Amon. Amon became the father of Josiah.\n",
      "Josiah became the father of Jechoniah and his brothers, at the time of the exile to Babylon.\n",
      "After the exile to Babylon, Jechoniah became the father of Shealtiel. Shealtiel became the father of Zerubbabel.\n",
      "Zerubbabel became the father of Abiud. Abiud became the father of Eliakim. Eliakim became the father of Azor.\n",
      "Azor became the father of Sadoc. Sadoc became the father of Achim. Achim became the father of Eliud.\n",
      "Eliud became the father of Eleazar. Eleazar became the father of Matthan. Matthan became the father of Jacob.\n",
      "Jacob became the father of Joseph, the husband of Mary, from whom was born Jesus , who is called Christ.\n",
      "So all the generations from Abraham to David are fourteen generations; from David to the exile to Babylon fourteen generations; and from the carrying away to Babylon to the Christ, fourteen generations.\n",
      "Now the birth of Jesus Christ was like this; for after his mother, Mary, was engaged to Joseph, before they came together, she was found pregnant by the Holy Spirit.\n",
      "Joseph, her husband, being a righteous man, and not willing to make her a public example, intended to put her away secretly.\n",
      "But when he thought about these things, behold, an angel of the Lord appeared to him in a dream, saying, \"Joseph, son of David, don't be afraid to take to yourself Mary, your wife, for that which is conceived in her is of the Holy Spirit.\n",
      "\n",
      "==> corpus/en-ss/bible-uedin.en-ss.en.txt <==\n",
      "the book of the genealogy of jesus christ, the son of david, the son of abraham\n",
      "abraham became the father of isaac\n",
      "isaac became the father of jacob\n",
      "jacob became the father of judah and his brothers\n",
      "judah became the father of perez and zerah by tamar\n",
      "perez became the father of hezron\n",
      "hezron became the father of ram\n",
      "ram became the father of amminadab\n",
      "amminadab became the father of nahshon\n",
      "nahshon became the father of salmon\n",
      "salmon became the father of boaz by rahab\n",
      "boaz became the father of obed by ruth\n",
      "obed became the father of jesse\n",
      "jesse became the father of king david\n",
      "david became the father of solomon by her who had been the wife of uriah\n",
      "solomon became the father of rehoboam\n",
      "rehoboam became the father of abijah\n",
      "abijah became the father of asa\n",
      "asa became the father of jehoshaphat\n",
      "jehoshaphat became the father of joram\n",
      "\n",
      "==> corpus/en-ss/bible-uedin.en-ss.ss <==\n",
      "Yesu Kristo alikuwa mzawa wa Daudi, mzawa wa Abrahamu. Hii ndiyo orodha ya ukoo wake:\n",
      "Abrahamu alimzaa Isaka, Isaka alimzaa Yakobo, Yakobo alimzaa Yuda na ndugu zake,\n",
      "Yuda alimzaa Faresi na Zera (mama yao alikuwa Tamari), Faresi alimzaa Hesroni, Hesroni alimzaa Rami,\n",
      "Rami alimzaa Aminadabu, Aminadabu alimzaa Nashoni, Nashoni alimzaa Salmoni,\n",
      "Salmoni alimzaa Boazi (mama yake Boazi alikuwa Rahabu). Boazi na Ruthi walikuwa wazazi wa Obedi, Obedi alimzaa Yese,\n",
      "naye Yese alimzaa Mfalme Daudi. Daudi alimzaa Solomoni (mama yake Solomoni alikuwa mke wa Uria).\n",
      "Solomoni alimzaa Rehoboamu, Rehoboamu alimzaa Abiya, Abiya alimzaa Asa,\n",
      "Asa alimzaa Yehoshafati, Yehoshafati alimzaa Yoramu, Yoramu alimzaa Uzia,\n",
      "Uzia alimzaa Yothamu, Yothamu alimzaa Ahazi, Ahazi alimzaa Hezekia,\n",
      "Hezekia alimzaa Manase, Manase alimzaa Amoni, Amoni alimzaa Yosia,\n",
      "Yosia alimzaa Yekonia na ndugu zake. Huo ulikuwa wakati Wayahudi walipopelekwa uhamishoni Babuloni.\n",
      "Baada ya Wayahudi kupelekwa uhamishomi Babuloni: Yekonia alimzaa Shealtieli, Shealtieli alimzaa Zerobabeli,\n",
      "Zerobabeli alimzaa Abiudi, Abiudi alimzaa Eliakimu, Eliakimu alimzaa Azori,\n",
      "Azori alimzaa Zadoki, Zadoki alimzaa Akimu, Akimu alimzaa Eliudi,\n",
      "Eliudi alimzaa Eleazeri, Eleazeri alimzaa Mathani, Mathani alimzaa Yakobo,\n",
      "Yakobo alimzaa Yosefu, aliyekuwa mume wake Maria, mama yake Yesu, aitwaye Kristo.\n",
      "Basi, kulikuwa na vizazi kumi na vinne tangu Abrahamu mpaka Daudi, vizazi kumi na vinne tangu Daudi mpaka Wayahudi walipochukuliwa mateka Babuloni, na vizazi kumi na vinne tangu kuchukuliwa mateka mpaka wakati wa Kristo.\n",
      "Basi, hivi ndivyo Yesu Kristo alivyozaliwa: Maria, mama yake, alikuwa ameposwa na Yosefu. Lakini kabla hawajakaa pamoja kama mume na mke, alionekana kuwa mja mzito kwa uwezo wa Roho Mtakatifu.\n",
      "Yosefu, mumewe, kwa vile alikuwa mwadilifu, hakutaka kumwaibisha hadharani; hivyo alikusudia kumwacha kwa siri.\n",
      "Alipokuwa bado anawaza jambo hilo, malaika wa Bwana alimtokea katika ndoto, akamwambia, \"Yosefu, mwana wa Daudi, usiogope kumchukua Maria awe mke wako, maana amekuwa mja mzito kwa uwezo wa Roho Mtakatifu.\n",
      "\n",
      "==> corpus/en-ss/bible-uedin.en-ss.ss.txt <==\n",
      "yesu kristo alikuwa mzawa wa daudi, mzawa wa abrahamu\n",
      "hii ndiyo orodha ya ukoo wake\n",
      "abrahamu alimzaa isaka, isaka alimzaa yakobo, yakobo alimzaa yuda na ndugu zake,\n",
      "yuda alimzaa faresi na zera, faresi alimzaa hesroni, hesroni alimzaa rami,\n",
      "rami alimzaa aminadabu, aminadabu alimzaa nashoni, nashoni alimzaa salmoni,\n",
      "salmoni alimzaa boazi \n",
      "boazi na ruthi walikuwa wazazi wa obedi, obedi alimzaa yese,\n",
      "naye yese alimzaa mfalme daudi\n",
      "daudi alimzaa solomoni \n",
      "solomoni alimzaa rehoboamu, rehoboamu alimzaa abiya, abiya alimzaa asa,\n",
      "asa alimzaa yehoshafati, yehoshafati alimzaa yoramu, yoramu alimzaa uzia,\n",
      "uzia alimzaa yothamu, yothamu alimzaa ahazi, ahazi alimzaa hezekia,\n",
      "hezekia alimzaa manase, manase alimzaa amoni, amoni alimzaa yosia,\n",
      "yosia alimzaa yekonia na ndugu zake\n",
      "huo ulikuwa wakati wayahudi walipopelekwa uhamishoni babuloni\n",
      "baada ya wayahudi kupelekwa uhamishomi babuloni\n",
      "yekonia alimzaa shealtieli, shealtieli alimzaa zerobabeli,\n",
      "zerobabeli alimzaa abiudi, abiudi alimzaa eliakimu, eliakimu alimzaa azori,\n",
      "azori alimzaa zadoki, zadoki alimzaa akimu, akimu alimzaa eliudi,\n",
      "eliudi alimzaa eleazeri, eleazeri alimzaa mathani, mathani alimzaa yakobo,\n"
     ]
    }
   ],
   "source": [
    "! head -n 20 corpus/{src}-{tgt}/bible-uedin.{src}-{tgt}.*"
   ]
  },
  {
   "cell_type": "code",
   "execution_count": 9,
   "metadata": {},
   "outputs": [
    {
     "name": "stdout",
     "output_type": "stream",
     "text": [
      "   15699 corpus/en-ss/bible-uedin.en-ss.en\n",
      "   20206 corpus/en-ss/bible-uedin.en-ss.en.txt\n",
      "   15699 corpus/en-ss/bible-uedin.en-ss.ss\n",
      "   22128 corpus/en-ss/bible-uedin.en-ss.ss.txt\n",
      "   73732 total\n"
     ]
    }
   ],
   "source": [
    "! wc -l corpus/{src}-{tgt}/bible-uedin.{src}-{tgt}.*"
   ]
  },
  {
   "cell_type": "code",
   "execution_count": null,
   "metadata": {},
   "outputs": [],
   "source": []
  }
 ],
 "metadata": {
  "kernelspec": {
   "display_name": "base",
   "language": "python",
   "name": "python3"
  },
  "language_info": {
   "codemirror_mode": {
    "name": "ipython",
    "version": 3
   },
   "file_extension": ".py",
   "mimetype": "text/x-python",
   "name": "python",
   "nbconvert_exporter": "python",
   "pygments_lexer": "ipython3",
   "version": "3.12.7"
  }
 },
 "nbformat": 4,
 "nbformat_minor": 2
}
